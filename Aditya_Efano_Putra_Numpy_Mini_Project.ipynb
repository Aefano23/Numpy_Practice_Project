{
  "nbformat": 4,
  "nbformat_minor": 0,
  "metadata": {
    "colab": {
      "provenance": [],
      "include_colab_link": true
    },
    "kernelspec": {
      "name": "python3",
      "display_name": "Python 3"
    },
    "language_info": {
      "name": "python"
    }
  },
  "cells": [
    {
      "cell_type": "markdown",
      "metadata": {
        "id": "view-in-github",
        "colab_type": "text"
      },
      "source": [
        "<a href=\"https://colab.research.google.com/github/Aefano23/Numpy_Practice_Project/blob/main/Aditya_Efano_Putra_Numpy_Mini_Project.ipynb\" target=\"_parent\"><img src=\"https://colab.research.google.com/assets/colab-badge.svg\" alt=\"Open In Colab\"/></a>"
      ]
    },
    {
      "cell_type": "markdown",
      "source": [
        "# **Mini Project Numpy**"
      ],
      "metadata": {
        "id": "d7GamJcxCzFR"
      }
    },
    {
      "cell_type": "markdown",
      "source": [
        "**1. Extract all odd numbers from arr**"
      ],
      "metadata": {
        "id": "YioJhCelCrdu"
      }
    },
    {
      "cell_type": "code",
      "execution_count": null,
      "metadata": {
        "id": "WVo8LT1GCZYG"
      },
      "outputs": [],
      "source": [
        "#Input\n",
        "arr = np.array([0, 1, 2, 3, 4, 5, 6, 7, 8, 9])"
      ]
    },
    {
      "cell_type": "code",
      "source": [
        "#Code Here\n",
        "import numpy as np\n",
        "arr = np.array([0, 1, 2, 3, 4, 5, 6, 7, 8, 9])\n",
        "odd = arr[arr % 2 != 0]\n",
        "print(odd)"
      ],
      "metadata": {
        "id": "bH4IS5AQC6Z_",
        "colab": {
          "base_uri": "https://localhost:8080/"
        },
        "outputId": "ef843cf0-a5d8-4ef6-8942-7a81cafefe22"
      },
      "execution_count": null,
      "outputs": [
        {
          "output_type": "stream",
          "name": "stdout",
          "text": [
            "[1 3 5 7 9]\n"
          ]
        }
      ]
    },
    {
      "cell_type": "markdown",
      "source": [
        "Output Seharusnya:\n",
        ">array([1, 3, 5, 7, 9])"
      ],
      "metadata": {
        "id": "c1EOP3q5C5xR"
      }
    },
    {
      "cell_type": "markdown",
      "source": [
        "**2. Convert a 1D array to a 2D array with 2 rows**"
      ],
      "metadata": {
        "id": "x2YULvt5DE8N"
      }
    },
    {
      "cell_type": "code",
      "source": [
        "#Input\n",
        "np.arange(10)"
      ],
      "metadata": {
        "id": "rd84iTfkDCMd"
      },
      "execution_count": null,
      "outputs": []
    },
    {
      "cell_type": "code",
      "source": [
        "#Code Here\n",
        "\n",
        "print(np.arange(10).reshape(2,5))"
      ],
      "metadata": {
        "id": "gNccFzanDPp_",
        "colab": {
          "base_uri": "https://localhost:8080/"
        },
        "outputId": "795f96ab-d837-4f95-aa76-cca34610fd78"
      },
      "execution_count": null,
      "outputs": [
        {
          "output_type": "stream",
          "name": "stdout",
          "text": [
            "[[0 1 2 3 4]\n",
            " [5 6 7 8 9]]\n"
          ]
        }
      ]
    },
    {
      "cell_type": "markdown",
      "source": [
        "Output Seharusnya:\n",
        ">array([[0, 1, 2, 3, 4],\n",
        " ><br>     [5, 6, 7, 8, 9]])\n",
        "\n",
        "\n",
        "\n"
      ],
      "metadata": {
        "id": "NagN4rfSDP56"
      }
    },
    {
      "cell_type": "markdown",
      "source": [
        "**3. Stack arrays a and b vertically**"
      ],
      "metadata": {
        "id": "qm5tlz3YDQEu"
      }
    },
    {
      "cell_type": "code",
      "source": [
        "#Input\n",
        "a = np.arange(10).reshape(2,-1)\n",
        "b = np.repeat(1, 10).reshape(2,-1)"
      ],
      "metadata": {
        "id": "dspMt3gyD54r"
      },
      "execution_count": null,
      "outputs": []
    },
    {
      "cell_type": "code",
      "source": [
        "#Code Here\n",
        "a = np.arange(10).reshape(2,-1)\n",
        "b = np.repeat(1, 10).reshape(2,-1)\n",
        "print(np.stack((a,b)))"
      ],
      "metadata": {
        "id": "X_0HZmZiD59p",
        "colab": {
          "base_uri": "https://localhost:8080/"
        },
        "outputId": "850d7a12-ca3d-49bf-e431-b52094291fce"
      },
      "execution_count": null,
      "outputs": [
        {
          "output_type": "stream",
          "name": "stdout",
          "text": [
            "[[[0 1 2 3 4]\n",
            "  [5 6 7 8 9]]\n",
            "\n",
            " [[1 1 1 1 1]\n",
            "  [1 1 1 1 1]]]\n"
          ]
        }
      ]
    },
    {
      "cell_type": "markdown",
      "source": [
        "Output Seharusnya:\n",
        "> array([[0, 1, 2, 3, 4],\n",
        ">  <br>      [5, 6, 7, 8, 9],\n",
        ">  <br>      [1, 1, 1, 1, 1],\n",
        ">    <br>    [1, 1, 1, 1, 1]])"
      ],
      "metadata": {
        "id": "jsQRK3tmD6E3"
      }
    },
    {
      "cell_type": "markdown",
      "source": [
        "**4. Swap columns 1 and 2 in the array arr.**"
      ],
      "metadata": {
        "id": "5-x7N0afD6Jw"
      }
    },
    {
      "cell_type": "code",
      "source": [
        "#Input\n",
        "arr = np.arange(9).reshape(3,3)\n",
        "arr"
      ],
      "metadata": {
        "id": "-b4GFJh4EhwI"
      },
      "execution_count": null,
      "outputs": []
    },
    {
      "cell_type": "code",
      "source": [
        "#Code here\n",
        "arr = np.arange(9).reshape(3,3)\n",
        "arr[:,[0,1]] = arr[:,[1,0]]\n",
        "print(arr)"
      ],
      "metadata": {
        "id": "JJ8fZAEaEh1I",
        "colab": {
          "base_uri": "https://localhost:8080/"
        },
        "outputId": "e32a3043-2e62-49e5-b614-3f07965482f7"
      },
      "execution_count": null,
      "outputs": [
        {
          "output_type": "stream",
          "name": "stdout",
          "text": [
            "[[1 0 2]\n",
            " [4 3 5]\n",
            " [7 6 8]]\n"
          ]
        }
      ]
    },
    {
      "cell_type": "markdown",
      "source": [
        "Output Seharusnya:\n",
        "> array([[1, 0, 2],\n",
        ">     <br>   [4, 3, 5],\n",
        ">     <br>   [7, 6, 8]])"
      ],
      "metadata": {
        "id": "ymhCLdyFEiBW"
      }
    },
    {
      "cell_type": "markdown",
      "source": [
        "**5. Replace all odd numbers in arr with -1**"
      ],
      "metadata": {
        "id": "bqSm9oYsFDWY"
      }
    },
    {
      "cell_type": "code",
      "source": [
        "#Input\n",
        "arr = np.array([0, 1, 2, 3, 4, 5, 6, 7, 8, 9])"
      ],
      "metadata": {
        "id": "YtUrq1H-E5w9"
      },
      "execution_count": null,
      "outputs": []
    },
    {
      "cell_type": "code",
      "source": [
        "arr = np.array([0, 1, 2, 3, 4, 5, 6, 7, 8, 9])\n",
        "arr[arr % 2 != 0] = -1\n",
        "print(arr)"
      ],
      "metadata": {
        "id": "JNCqDkIzFodV",
        "colab": {
          "base_uri": "https://localhost:8080/"
        },
        "outputId": "fe0da2b7-dfe7-4bfc-9de4-279c133ec1c5"
      },
      "execution_count": null,
      "outputs": [
        {
          "output_type": "stream",
          "name": "stdout",
          "text": [
            "[ 0 -1  2 -1  4 -1  6 -1  8 -1]\n"
          ]
        }
      ]
    },
    {
      "cell_type": "markdown",
      "source": [
        "Output Seharusnya:\n",
        "> array([ 0, -1,  2, -1,  4, -1,  6, -1,  8, -1])"
      ],
      "metadata": {
        "id": "Ai1d-Rv5Fol_"
      }
    },
    {
      "cell_type": "markdown",
      "source": [
        "**6. Convert a 1-D array to a 3-D array**"
      ],
      "metadata": {
        "id": "HiTeiKOXF5qA"
      }
    },
    {
      "cell_type": "code",
      "source": [
        "#Input\n",
        "a = np.array([x for x in range(27)])"
      ],
      "metadata": {
        "id": "mafkSp2IFqow"
      },
      "execution_count": null,
      "outputs": []
    },
    {
      "cell_type": "code",
      "source": [
        "#Code Here\n",
        "a = np.array([x for x in range(27)])\n",
        "print(a.reshape(3,3,3))"
      ],
      "metadata": {
        "id": "h9eeFbwaF7do",
        "colab": {
          "base_uri": "https://localhost:8080/"
        },
        "outputId": "f1cada92-77c8-4c0b-d413-bb8acb02a47c"
      },
      "execution_count": null,
      "outputs": [
        {
          "output_type": "stream",
          "name": "stdout",
          "text": [
            "[[[ 0  1  2]\n",
            "  [ 3  4  5]\n",
            "  [ 6  7  8]]\n",
            "\n",
            " [[ 9 10 11]\n",
            "  [12 13 14]\n",
            "  [15 16 17]]\n",
            "\n",
            " [[18 19 20]\n",
            "  [21 22 23]\n",
            "  [24 25 26]]]\n"
          ]
        }
      ]
    },
    {
      "cell_type": "markdown",
      "source": [
        "Output Seharusnya:\n",
        ">[[[ 0  1  2]\n",
        "> <br>  [ 3  4  5]\n",
        "> <br> [ 6  7  8]]\n",
        "<br>\n",
        "> <br> [[ 9 10 11]\n",
        "> <br>  [12 13 14]\n",
        "> <br> [15 16 17]]\n",
        "<br>\n",
        "> <br> [[18 19 20]\n",
        "> <br> [21 22 23]\n",
        "> <br> [24 25 26]]]"
      ],
      "metadata": {
        "id": "oJtxU17SF7lC"
      }
    },
    {
      "cell_type": "markdown",
      "source": [
        "**7. Output the transpose of a matrix (as numpy array)**"
      ],
      "metadata": {
        "id": "oC64xu1mF7rX"
      }
    },
    {
      "cell_type": "code",
      "source": [
        "#Input\n",
        "a = np.array([[11,32,53],\n",
        "              [64,25,16],\n",
        "              [47,28,39]])"
      ],
      "metadata": {
        "id": "CVEBHVkQGiO_"
      },
      "execution_count": null,
      "outputs": []
    },
    {
      "cell_type": "code",
      "source": [
        "#Code here\n",
        "a = np.array([[11,32,53],\n",
        "              [64,25,16],\n",
        "              [47,28,39]])\n",
        "new = a - np.floor_divide(a,10)*10 #per nilai dilakukan pembagian kebawah dengan 10, kemudian hasilnya dikali 10 (ini disebut pengurang). nilai awal kemudian dikurang dengan pengurang sehingga diperolehlah digit satuan dari setiap elemen\n",
        "new_transpose =  new.transpose()\n",
        "print(new_transpose)"
      ],
      "metadata": {
        "id": "ELYddJ44Gimm",
        "colab": {
          "base_uri": "https://localhost:8080/"
        },
        "outputId": "a8ffa2ee-3a87-4bd7-d144-c936d48d1591"
      },
      "execution_count": null,
      "outputs": [
        {
          "output_type": "stream",
          "name": "stdout",
          "text": [
            "[[1 4 7]\n",
            " [2 5 8]\n",
            " [3 6 9]]\n"
          ]
        }
      ]
    },
    {
      "cell_type": "markdown",
      "source": [
        "output Seharusnya:\n",
        "> [[1 4 7]\n",
        "> <br> [2 5 8]\n",
        "> <br> [3 6 9]]"
      ],
      "metadata": {
        "id": "DsehJtLUGivH"
      }
    },
    {
      "cell_type": "markdown",
      "source": [
        "**8. How to get the desired result from both of these arrays**"
      ],
      "metadata": {
        "id": "xHSgOMKOHAbY"
      }
    },
    {
      "cell_type": "code",
      "source": [
        "#Input\n",
        "a = np.array([[1,2,3],\n",
        "              [4,5,6]])\n",
        "\n",
        "b = np.array([[10,11,12],\n",
        "              [13,14,15]])"
      ],
      "metadata": {
        "id": "pW3AQA3uHD6p"
      },
      "execution_count": null,
      "outputs": []
    },
    {
      "cell_type": "code",
      "source": [
        "#Code here\n",
        "a = np.array([[1,2,3],\n",
        "              [4,5,6]])\n",
        "\n",
        "b = np.array([[10,11,12],\n",
        "              [13,14,15]])\n",
        "print(np.add(a,b))"
      ],
      "metadata": {
        "id": "wP1NNpdxHFCv",
        "colab": {
          "base_uri": "https://localhost:8080/"
        },
        "outputId": "9fc2e1d5-834a-4d4a-fdfb-edf1164b5304"
      },
      "execution_count": null,
      "outputs": [
        {
          "output_type": "stream",
          "name": "stdout",
          "text": [
            "[[11 13 15]\n",
            " [17 19 21]]\n"
          ]
        }
      ]
    },
    {
      "cell_type": "markdown",
      "source": [
        "Output Seharusnya:\n",
        ">[[11 13 15]\n",
        "> <br> [17 19 21]]"
      ],
      "metadata": {
        "id": "A2sPdBu4HHxS"
      }
    },
    {
      "cell_type": "markdown",
      "source": [
        "**9. Selesaikan soal dibawah ini**"
      ],
      "metadata": {
        "id": "5uYRuvlVHxk4"
      }
    },
    {
      "cell_type": "code",
      "source": [
        "# Berikan 2 ke variable apple_price\n",
        "apple_price = 2\n",
        "\n",
        "# Berikan 5 ke variable count\n",
        "count = 5\n",
        "\n",
        "# Berikan hasil dari apple_price * count ke variable total_price\n",
        "total_price = apple_price * count\n",
        "\n",
        "# Dengan menggunakan variable count, cetak 'Anda akan membeli .. apel'\n",
        "#CODE HERE\n",
        "print(f\"Anda akan membeli {count} apel\")\n",
        "\n",
        "# Dengan menggunakan variable total_price, cetak 'Harga total adalah .. dolar'\n",
        "#CODE HERE\n",
        "print(f\"Harga total adalah {total_price} dolar\")"
      ],
      "metadata": {
        "id": "jqfRBLNlHHBu",
        "colab": {
          "base_uri": "https://localhost:8080/"
        },
        "outputId": "b792a059-cdb1-45df-9c58-b96d39fe6a7a"
      },
      "execution_count": null,
      "outputs": [
        {
          "output_type": "stream",
          "name": "stdout",
          "text": [
            "Anda akan membeli 5 apel\n",
            "Harga total adalah 10 dolar\n"
          ]
        }
      ]
    },
    {
      "cell_type": "markdown",
      "source": [
        "**10. Selesaikan Soal dibawah ini**"
      ],
      "metadata": {
        "id": "bpY9HnjxH9C3"
      }
    },
    {
      "cell_type": "code",
      "source": [
        "items = {\"nama_barang\":\"apel\",\"deskripsi\":[{\n",
        "    \"harga\":20,\n",
        "    \"foto\":\"assets/images/apple.jpg\",\n",
        "    \"qty\":100\n",
        "}], \"nama_barang\":\"jeruk\",\"deskripsi\":[{\n",
        "    \"harga\":25,\n",
        "    \"foto\":\"assets/images/jeruk.jpg\",\n",
        "    \"qty\":150\n",
        "}] }"
      ],
      "metadata": {
        "id": "2wpAaTdwH_L_"
      },
      "execution_count": null,
      "outputs": []
    },
    {
      "cell_type": "code",
      "source": [
        "# Berikan 20 ke variable money\n",
        "money = 20\n",
        "\n",
        "items = {'apel': 2, 'pisang': 4, 'jeruk': 6}\n",
        "for item_name in items:\n",
        "    print('--------------------------------------------------')\n",
        "    # Menggunakan variable money, cetak 'Anda memiliki ___ dolar di dompet Anda'\n",
        "    #CODE HERE\n",
        "    print(f\"Anda memiliki {money} dolar di dompet Anda\")\n",
        "    #CODE BELOW\n",
        "    print('Harga setiap '+ item_name +' '+ str(items[item_name]) + ' dolar')\n",
        "\n",
        "    input_count = input('Mau berapa ' + item_name + '?:')\n",
        "    print('Anda akan membeli' , input_count , item_name)\n",
        "\n",
        "    count = int(input_count)\n",
        "    total_price = items[item_name] * count\n",
        "    print('Harga total adalah ' + str(total_price) + ' dolar')\n",
        "\n",
        "    # Tambahkan control flow berdasarkan perbandingan dari money dan total_price\n",
        "    if(money >= total_price):\n",
        "      print(\"Anda telah membeli \"+ item_name + ' ' + str(items[item_name]))\n",
        "      money = money - total_price\n",
        "    else:\n",
        "      print(\"Uang Anda tidak mencukupi\")\n",
        "      print(\"Anda tidak dapat membeli \"+ item_name +\" sebanyak itu\")\n"
      ],
      "metadata": {
        "id": "JcMBknlyICUg"
      },
      "execution_count": null,
      "outputs": []
    }
  ]
}